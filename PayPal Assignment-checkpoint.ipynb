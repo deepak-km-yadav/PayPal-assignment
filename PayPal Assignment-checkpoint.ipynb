{
 "cells": [
  {
   "cell_type": "code",
   "execution_count": 108,
   "metadata": {},
   "outputs": [],
   "source": [
    "from sklearn.linear_model import LogisticRegression\n",
    "from sklearn.model_selection import train_test_split\n",
    "from sklearn.preprocessing import LabelEncoder\n",
    "from imblearn.combine import SMOTETomek\n",
    "from sklearn import metrics\n",
    "from sklearn.metrics import confusion_matrix\n",
    "from sklearn.metrics import classification_report\n",
    "from sklearn.metrics import precision_recall_fscore_support, roc_curve, roc_auc_score\n",
    "from sklearn.preprocessing import StandardScaler\n",
    "from matplotlib import pyplot\n",
    "from matplotlib.pyplot import figure\n",
    "from numpy import argmax\n",
    "\n",
    "\n",
    "import pandas as pd\n",
    "import numpy as np\n",
    "import matplotlib.pyplot as plt\n",
    "import xgboost as xgb\n",
    "import seaborn as sns\n",
    "\n",
    "import warnings\n",
    "warnings.filterwarnings('ignore')"
   ]
  },
  {
   "cell_type": "code",
   "execution_count": 174,
   "metadata": {},
   "outputs": [],
   "source": [
    "customer_data = pd.read_csv('pp_cust_data.csv')\n",
    "subscriber_data = pd.read_csv('subscriber_data_sample.csv')\n"
   ]
  },
  {
   "cell_type": "markdown",
   "metadata": {},
   "source": [
    "### Email address column cleansing"
   ]
  },
  {
   "cell_type": "code",
   "execution_count": 175,
   "metadata": {},
   "outputs": [
    {
     "data": {
      "text/html": [
       "<div>\n",
       "<style scoped>\n",
       "    .dataframe tbody tr th:only-of-type {\n",
       "        vertical-align: middle;\n",
       "    }\n",
       "\n",
       "    .dataframe tbody tr th {\n",
       "        vertical-align: top;\n",
       "    }\n",
       "\n",
       "    .dataframe thead th {\n",
       "        text-align: right;\n",
       "    }\n",
       "</style>\n",
       "<table border=\"1\" class=\"dataframe\">\n",
       "  <thead>\n",
       "    <tr style=\"text-align: right;\">\n",
       "      <th></th>\n",
       "      <th>email_address</th>\n",
       "      <th>active_send</th>\n",
       "      <th>active_receive</th>\n",
       "    </tr>\n",
       "  </thead>\n",
       "  <tbody>\n",
       "    <tr>\n",
       "      <th>0</th>\n",
       "      <td>UQZXVWHPAR@GSLJXDZV.COM</td>\n",
       "      <td>1</td>\n",
       "      <td>0</td>\n",
       "    </tr>\n",
       "    <tr>\n",
       "      <th>1</th>\n",
       "      <td>RLKSLDNYTDW@SIDPRQ.COM</td>\n",
       "      <td>1</td>\n",
       "      <td>0</td>\n",
       "    </tr>\n",
       "    <tr>\n",
       "      <th>2</th>\n",
       "      <td>ONVGUCDMEACP@HMXNGE.COM</td>\n",
       "      <td>1</td>\n",
       "      <td>1</td>\n",
       "    </tr>\n",
       "    <tr>\n",
       "      <th>3</th>\n",
       "      <td>DSMIX686@GMAIL.COM</td>\n",
       "      <td>1</td>\n",
       "      <td>0</td>\n",
       "    </tr>\n",
       "    <tr>\n",
       "      <th>4</th>\n",
       "      <td>QHVKQNOGRG@DHQWP.COM</td>\n",
       "      <td>1</td>\n",
       "      <td>1</td>\n",
       "    </tr>\n",
       "  </tbody>\n",
       "</table>\n",
       "</div>"
      ],
      "text/plain": [
       "             email_address  active_send  active_receive\n",
       "0  UQZXVWHPAR@GSLJXDZV.COM            1               0\n",
       "1   RLKSLDNYTDW@SIDPRQ.COM            1               0\n",
       "2  ONVGUCDMEACP@HMXNGE.COM            1               1\n",
       "3       DSMIX686@GMAIL.COM            1               0\n",
       "4     QHVKQNOGRG@DHQWP.COM            1               1"
      ]
     },
     "execution_count": 175,
     "metadata": {},
     "output_type": "execute_result"
    }
   ],
   "source": [
    "customer_data['email_address'] = customer_data['email_address'].str.upper() \n",
    "customer_data['email_address'] = customer_data['email_address'].str.strip() \n",
    "subscriber_data['email_address'] = subscriber_data['email_address'].str.upper() \n",
    "subscriber_data['email_address'] = subscriber_data['email_address'].str.strip()\n",
    "customer_data.head()\n"
   ]
  },
  {
   "cell_type": "markdown",
   "metadata": {},
   "source": [
    "## Merging the subscriber and PayPal customer data"
   ]
  },
  {
   "cell_type": "code",
   "execution_count": 177,
   "metadata": {},
   "outputs": [
    {
     "data": {
      "text/plain": [
       "135"
      ]
     },
     "execution_count": 177,
     "metadata": {},
     "output_type": "execute_result"
    }
   ],
   "source": [
    "final_data = pd.merge(subscriber_data,customer_data,on='email_address')\n",
    "len(final_data)"
   ]
  },
  {
   "cell_type": "code",
   "execution_count": 178,
   "metadata": {},
   "outputs": [
    {
     "data": {
      "text/html": [
       "<div>\n",
       "<style scoped>\n",
       "    .dataframe tbody tr th:only-of-type {\n",
       "        vertical-align: middle;\n",
       "    }\n",
       "\n",
       "    .dataframe tbody tr th {\n",
       "        vertical-align: top;\n",
       "    }\n",
       "\n",
       "    .dataframe thead th {\n",
       "        text-align: right;\n",
       "    }\n",
       "</style>\n",
       "<table border=\"1\" class=\"dataframe\">\n",
       "  <thead>\n",
       "    <tr style=\"text-align: right;\">\n",
       "      <th></th>\n",
       "      <th>email_address</th>\n",
       "      <th>industry</th>\n",
       "      <th>relationship_length</th>\n",
       "      <th>site_visits</th>\n",
       "      <th>active_send</th>\n",
       "      <th>active_receive</th>\n",
       "    </tr>\n",
       "  </thead>\n",
       "  <tbody>\n",
       "    <tr>\n",
       "      <th>0</th>\n",
       "      <td>VGID.VGID@YAHOO.COM</td>\n",
       "      <td>landscape engineer</td>\n",
       "      <td>30</td>\n",
       "      <td>2019</td>\n",
       "      <td>0</td>\n",
       "      <td>0</td>\n",
       "    </tr>\n",
       "    <tr>\n",
       "      <th>1</th>\n",
       "      <td>ARCHITECTBPNFEBC@YAHOO.COM</td>\n",
       "      <td>architect</td>\n",
       "      <td>6</td>\n",
       "      <td>47</td>\n",
       "      <td>0</td>\n",
       "      <td>0</td>\n",
       "    </tr>\n",
       "    <tr>\n",
       "      <th>2</th>\n",
       "      <td>LANDSCAPEENGINEERIHDACRUI@GMAIL.COM</td>\n",
       "      <td>landscape engineer</td>\n",
       "      <td>13</td>\n",
       "      <td>105</td>\n",
       "      <td>0</td>\n",
       "      <td>1</td>\n",
       "    </tr>\n",
       "    <tr>\n",
       "      <th>3</th>\n",
       "      <td>XWCLJNOGROWER@YAHOO.COM</td>\n",
       "      <td>grower</td>\n",
       "      <td>11</td>\n",
       "      <td>146</td>\n",
       "      <td>0</td>\n",
       "      <td>1</td>\n",
       "    </tr>\n",
       "    <tr>\n",
       "      <th>4</th>\n",
       "      <td>ZVJ878@GMAIL.COM</td>\n",
       "      <td>plants</td>\n",
       "      <td>2</td>\n",
       "      <td>346</td>\n",
       "      <td>1</td>\n",
       "      <td>0</td>\n",
       "    </tr>\n",
       "  </tbody>\n",
       "</table>\n",
       "</div>"
      ],
      "text/plain": [
       "                         email_address            industry  \\\n",
       "0                  VGID.VGID@YAHOO.COM  landscape engineer   \n",
       "1           ARCHITECTBPNFEBC@YAHOO.COM           architect   \n",
       "2  LANDSCAPEENGINEERIHDACRUI@GMAIL.COM  landscape engineer   \n",
       "3              XWCLJNOGROWER@YAHOO.COM              grower   \n",
       "4                     ZVJ878@GMAIL.COM              plants   \n",
       "\n",
       "   relationship_length  site_visits  active_send  active_receive  \n",
       "0                   30         2019            0               0  \n",
       "1                    6           47            0               0  \n",
       "2                   13          105            0               1  \n",
       "3                   11          146            0               1  \n",
       "4                    2          346            1               0  "
      ]
     },
     "execution_count": 178,
     "metadata": {},
     "output_type": "execute_result"
    }
   ],
   "source": [
    "final_data.head()"
   ]
  },
  {
   "cell_type": "markdown",
   "metadata": {},
   "source": [
    "## Creating target variable"
   ]
  },
  {
   "cell_type": "code",
   "execution_count": 179,
   "metadata": {},
   "outputs": [],
   "source": [
    "final_data['active_user']  = np.where((final_data['active_send'] == 1) | (final_data['active_receive'] == 1), 1, 0)"
   ]
  },
  {
   "cell_type": "code",
   "execution_count": 180,
   "metadata": {},
   "outputs": [
    {
     "data": {
      "text/html": [
       "<div>\n",
       "<style scoped>\n",
       "    .dataframe tbody tr th:only-of-type {\n",
       "        vertical-align: middle;\n",
       "    }\n",
       "\n",
       "    .dataframe tbody tr th {\n",
       "        vertical-align: top;\n",
       "    }\n",
       "\n",
       "    .dataframe thead th {\n",
       "        text-align: right;\n",
       "    }\n",
       "</style>\n",
       "<table border=\"1\" class=\"dataframe\">\n",
       "  <thead>\n",
       "    <tr style=\"text-align: right;\">\n",
       "      <th></th>\n",
       "      <th>count</th>\n",
       "      <th>mean</th>\n",
       "      <th>std</th>\n",
       "      <th>min</th>\n",
       "      <th>25%</th>\n",
       "      <th>50%</th>\n",
       "      <th>75%</th>\n",
       "      <th>max</th>\n",
       "    </tr>\n",
       "  </thead>\n",
       "  <tbody>\n",
       "    <tr>\n",
       "      <th>relationship_length</th>\n",
       "      <td>135.0</td>\n",
       "      <td>8.837037</td>\n",
       "      <td>9.078602</td>\n",
       "      <td>1.0</td>\n",
       "      <td>2.0</td>\n",
       "      <td>6.0</td>\n",
       "      <td>13.0</td>\n",
       "      <td>30.0</td>\n",
       "    </tr>\n",
       "    <tr>\n",
       "      <th>site_visits</th>\n",
       "      <td>135.0</td>\n",
       "      <td>764.725926</td>\n",
       "      <td>2304.603454</td>\n",
       "      <td>0.0</td>\n",
       "      <td>43.5</td>\n",
       "      <td>145.0</td>\n",
       "      <td>520.0</td>\n",
       "      <td>16551.0</td>\n",
       "    </tr>\n",
       "    <tr>\n",
       "      <th>active_send</th>\n",
       "      <td>135.0</td>\n",
       "      <td>0.348148</td>\n",
       "      <td>0.478158</td>\n",
       "      <td>0.0</td>\n",
       "      <td>0.0</td>\n",
       "      <td>0.0</td>\n",
       "      <td>1.0</td>\n",
       "      <td>1.0</td>\n",
       "    </tr>\n",
       "    <tr>\n",
       "      <th>active_receive</th>\n",
       "      <td>135.0</td>\n",
       "      <td>0.303704</td>\n",
       "      <td>0.461569</td>\n",
       "      <td>0.0</td>\n",
       "      <td>0.0</td>\n",
       "      <td>0.0</td>\n",
       "      <td>1.0</td>\n",
       "      <td>1.0</td>\n",
       "    </tr>\n",
       "    <tr>\n",
       "      <th>active_user</th>\n",
       "      <td>135.0</td>\n",
       "      <td>0.592593</td>\n",
       "      <td>0.493182</td>\n",
       "      <td>0.0</td>\n",
       "      <td>0.0</td>\n",
       "      <td>1.0</td>\n",
       "      <td>1.0</td>\n",
       "      <td>1.0</td>\n",
       "    </tr>\n",
       "  </tbody>\n",
       "</table>\n",
       "</div>"
      ],
      "text/plain": [
       "                     count        mean          std  min   25%    50%    75%  \\\n",
       "relationship_length  135.0    8.837037     9.078602  1.0   2.0    6.0   13.0   \n",
       "site_visits          135.0  764.725926  2304.603454  0.0  43.5  145.0  520.0   \n",
       "active_send          135.0    0.348148     0.478158  0.0   0.0    0.0    1.0   \n",
       "active_receive       135.0    0.303704     0.461569  0.0   0.0    0.0    1.0   \n",
       "active_user          135.0    0.592593     0.493182  0.0   0.0    1.0    1.0   \n",
       "\n",
       "                         max  \n",
       "relationship_length     30.0  \n",
       "site_visits          16551.0  \n",
       "active_send              1.0  \n",
       "active_receive           1.0  \n",
       "active_user              1.0  "
      ]
     },
     "execution_count": 180,
     "metadata": {},
     "output_type": "execute_result"
    }
   ],
   "source": [
    "final_data.describe().T"
   ]
  },
  {
   "cell_type": "code",
   "execution_count": 200,
   "metadata": {},
   "outputs": [
    {
     "data": {
      "text/plain": [
       "<seaborn.axisgrid.PairGrid at 0x1b53bc79850>"
      ]
     },
     "execution_count": 200,
     "metadata": {},
     "output_type": "execute_result"
    },
    {
     "data": {
      "image/png": "[encoded data removed]",
      "text/plain": [
       "<Figure size 360x360 with 6 Axes>"
      ]
     },
     "metadata": {
      "needs_background": "light"
     },
     "output_type": "display_data"
    }
   ],
   "source": [
    "sns.pairplot(final_data[['relationship_length','site_visits']])"
   ]
  },
  {
   "cell_type": "code",
   "execution_count": 202,
   "metadata": {},
   "outputs": [
    {
     "data": {
      "image/png": "[encoded data removed]",
      "text/plain": [
       "<Figure size 720x432 with 2 Axes>"
      ]
     },
     "metadata": {
      "needs_background": "light"
     },
     "output_type": "display_data"
    }
   ],
   "source": [
    "# Correlation Plot\n",
    "\n",
    "plt.figure(figsize=(10,6))\n",
    "heatmap = sns.heatmap(final_data[['relationship_length','site_visits']].corr(), annot=True, cmap=\"Blues\")"
   ]
  },
  {
   "cell_type": "code",
   "execution_count": 181,
   "metadata": {},
   "outputs": [
    {
     "data": {
      "image/png": "[encoded data removed]",
      "text/plain": [
       "<Figure size 1152x360 with 1 Axes>"
      ]
     },
     "metadata": {
      "needs_background": "light"
     },
     "output_type": "display_data"
    }
   ],
   "source": [
    "#Z score treatment for outliers\n",
    "import warnings\n",
    "warnings.filterwarnings('ignore')\n",
    "plt.figure(figsize=(16,5))\n",
    "plt.subplot(1,2,1)\n",
    "sns.distplot(final_data['site_visits'])\n",
    "#plt.subplot(1,2,2)\n",
    "#sns.distplot(df['placement_exam_marks'])\n",
    "plt.show()"
   ]
  },
  {
   "cell_type": "code",
   "execution_count": 182,
   "metadata": {},
   "outputs": [
    {
     "name": "stdout",
     "output_type": "stream",
     "text": [
      "Lower Limit :-6149.084436627653      Higher Limit: 7678.536288479506\n"
     ]
    }
   ],
   "source": [
    "# Z-score treatment\n",
    "visit_Highest_limit = final_data['site_visits'].mean() + 3*final_data['site_visits'].std()\n",
    "visit_Lowest_limit = final_data['site_visits'].mean() - 3*final_data['site_visits'].std()\n",
    "print(\"Lower Limit :{}      Higher Limit: {}\".format(visit_Lowest_limit,visit_Highest_limit))\n",
    "\n",
    "#final_data['site_visits']  = np.where((final_data['site_visits'] >= visit_Highest_limit), visit_Highest_limit,final_data['site_visits'])"
   ]
  },
  {
   "attachments": {},
   "cell_type": "markdown",
   "metadata": {},
   "source": [
    "## Filling the missing industry using Non free ISP domains. \n",
    "\n",
    "example : missing industry for domain @EVTlandscapearchitect.biz mapping it to landscape architect. "
   ]
  },
  {
   "cell_type": "code",
   "execution_count": 199,
   "metadata": {},
   "outputs": [],
   "source": [
    "final_data['domain'] = final_data['email_address'].str.split('@').str[1]\n",
    "\n",
    "Free_isp = pd.read_csv('all_email_provider_domains.csv')\n",
    "Free_isp['domain'] = Free_isp['domain'].str.upper()\n",
    "Free_isp[\"Remove_domain\"] = \"Yes\"\n",
    "\n",
    "subscriber_data['domain'] = subscriber_data['email_address'].str.split('@').str[1]\n",
    "merge_data = pd.merge(subscriber_data,Free_isp,on='domain',how = 'left')\n",
    "merge_data = merge_data[(merge_data.Remove_domain != \"Yes\")]\n",
    "merge_data = merge_data[~merge_data['industry'].isnull()]\n",
    "merge_data = merge_data[['industry','domain']]\n",
    "\n",
    "industry_mapping = merge_data.sort_values('industry').drop_duplicates(subset=['domain'], keep='last')\n",
    "final_data = pd.merge(final_data,industry_mapping,on='domain',how = 'left')\n",
    "final_data.industry_x.fillna(final_data.industry_y, inplace=True)\n"
   ]
  },
  {
   "cell_type": "code",
   "execution_count": 189,
   "metadata": {},
   "outputs": [
    {
     "data": {
      "text/html": [
       "<div>\n",
       "<style scoped>\n",
       "    .dataframe tbody tr th:only-of-type {\n",
       "        vertical-align: middle;\n",
       "    }\n",
       "\n",
       "    .dataframe tbody tr th {\n",
       "        vertical-align: top;\n",
       "    }\n",
       "\n",
       "    .dataframe thead th {\n",
       "        text-align: right;\n",
       "    }\n",
       "</style>\n",
       "<table border=\"1\" class=\"dataframe\">\n",
       "  <thead>\n",
       "    <tr style=\"text-align: right;\">\n",
       "      <th></th>\n",
       "      <th>email_address</th>\n",
       "      <th>industry_x</th>\n",
       "      <th>relationship_length</th>\n",
       "      <th>site_visits</th>\n",
       "      <th>active_send</th>\n",
       "      <th>active_receive</th>\n",
       "      <th>active_user</th>\n",
       "      <th>domain</th>\n",
       "      <th>industry_y</th>\n",
       "    </tr>\n",
       "  </thead>\n",
       "  <tbody>\n",
       "    <tr>\n",
       "      <th>0</th>\n",
       "      <td>VGID.VGID@YAHOO.COM</td>\n",
       "      <td>landscape engineer</td>\n",
       "      <td>30</td>\n",
       "      <td>2019</td>\n",
       "      <td>0</td>\n",
       "      <td>0</td>\n",
       "      <td>0</td>\n",
       "      <td>YAHOO.COM</td>\n",
       "      <td>NaN</td>\n",
       "    </tr>\n",
       "    <tr>\n",
       "      <th>1</th>\n",
       "      <td>ARCHITECTBPNFEBC@YAHOO.COM</td>\n",
       "      <td>architect</td>\n",
       "      <td>6</td>\n",
       "      <td>47</td>\n",
       "      <td>0</td>\n",
       "      <td>0</td>\n",
       "      <td>0</td>\n",
       "      <td>YAHOO.COM</td>\n",
       "      <td>NaN</td>\n",
       "    </tr>\n",
       "    <tr>\n",
       "      <th>2</th>\n",
       "      <td>LANDSCAPEENGINEERIHDACRUI@GMAIL.COM</td>\n",
       "      <td>landscape engineer</td>\n",
       "      <td>13</td>\n",
       "      <td>105</td>\n",
       "      <td>0</td>\n",
       "      <td>1</td>\n",
       "      <td>1</td>\n",
       "      <td>GMAIL.COM</td>\n",
       "      <td>NaN</td>\n",
       "    </tr>\n",
       "    <tr>\n",
       "      <th>3</th>\n",
       "      <td>XWCLJNOGROWER@YAHOO.COM</td>\n",
       "      <td>grower</td>\n",
       "      <td>11</td>\n",
       "      <td>146</td>\n",
       "      <td>0</td>\n",
       "      <td>1</td>\n",
       "      <td>1</td>\n",
       "      <td>YAHOO.COM</td>\n",
       "      <td>NaN</td>\n",
       "    </tr>\n",
       "    <tr>\n",
       "      <th>4</th>\n",
       "      <td>ZVJ878@GMAIL.COM</td>\n",
       "      <td>plants</td>\n",
       "      <td>2</td>\n",
       "      <td>346</td>\n",
       "      <td>1</td>\n",
       "      <td>0</td>\n",
       "      <td>1</td>\n",
       "      <td>GMAIL.COM</td>\n",
       "      <td>NaN</td>\n",
       "    </tr>\n",
       "    <tr>\n",
       "      <th>...</th>\n",
       "      <td>...</td>\n",
       "      <td>...</td>\n",
       "      <td>...</td>\n",
       "      <td>...</td>\n",
       "      <td>...</td>\n",
       "      <td>...</td>\n",
       "      <td>...</td>\n",
       "      <td>...</td>\n",
       "      <td>...</td>\n",
       "    </tr>\n",
       "    <tr>\n",
       "      <th>130</th>\n",
       "      <td>SUPPLYJWZUCB@GMAIL.COM</td>\n",
       "      <td>supply</td>\n",
       "      <td>5</td>\n",
       "      <td>543</td>\n",
       "      <td>0</td>\n",
       "      <td>0</td>\n",
       "      <td>0</td>\n",
       "      <td>GMAIL.COM</td>\n",
       "      <td>NaN</td>\n",
       "    </tr>\n",
       "    <tr>\n",
       "      <th>131</th>\n",
       "      <td>CVLOGA@OUTDOORLIVINGYQT.BIZ</td>\n",
       "      <td>outdoor living</td>\n",
       "      <td>4</td>\n",
       "      <td>43</td>\n",
       "      <td>0</td>\n",
       "      <td>0</td>\n",
       "      <td>0</td>\n",
       "      <td>OUTDOORLIVINGYQT.BIZ</td>\n",
       "      <td>outdoor living</td>\n",
       "    </tr>\n",
       "    <tr>\n",
       "      <th>132</th>\n",
       "      <td>CUUAN@HOTMAIL.COM</td>\n",
       "      <td>vineyard</td>\n",
       "      <td>30</td>\n",
       "      <td>477</td>\n",
       "      <td>0</td>\n",
       "      <td>0</td>\n",
       "      <td>0</td>\n",
       "      <td>HOTMAIL.COM</td>\n",
       "      <td>NaN</td>\n",
       "    </tr>\n",
       "    <tr>\n",
       "      <th>133</th>\n",
       "      <td>MBXA.MBXA@GMAIL.COM</td>\n",
       "      <td>designer</td>\n",
       "      <td>14</td>\n",
       "      <td>7924</td>\n",
       "      <td>0</td>\n",
       "      <td>0</td>\n",
       "      <td>0</td>\n",
       "      <td>GMAIL.COM</td>\n",
       "      <td>NaN</td>\n",
       "    </tr>\n",
       "    <tr>\n",
       "      <th>134</th>\n",
       "      <td>OUTDOORLMAJVIIP@YAHOO.COM</td>\n",
       "      <td>outdoor</td>\n",
       "      <td>30</td>\n",
       "      <td>303</td>\n",
       "      <td>0</td>\n",
       "      <td>1</td>\n",
       "      <td>1</td>\n",
       "      <td>YAHOO.COM</td>\n",
       "      <td>NaN</td>\n",
       "    </tr>\n",
       "  </tbody>\n",
       "</table>\n",
       "<p>135 rows × 9 columns</p>\n",
       "</div>"
      ],
      "text/plain": [
       "                           email_address          industry_x  \\\n",
       "0                    VGID.VGID@YAHOO.COM  landscape engineer   \n",
       "1             ARCHITECTBPNFEBC@YAHOO.COM           architect   \n",
       "2    LANDSCAPEENGINEERIHDACRUI@GMAIL.COM  landscape engineer   \n",
       "3                XWCLJNOGROWER@YAHOO.COM              grower   \n",
       "4                       ZVJ878@GMAIL.COM              plants   \n",
       "..                                   ...                 ...   \n",
       "130               SUPPLYJWZUCB@GMAIL.COM              supply   \n",
       "131          CVLOGA@OUTDOORLIVINGYQT.BIZ      outdoor living   \n",
       "132                    CUUAN@HOTMAIL.COM            vineyard   \n",
       "133                  MBXA.MBXA@GMAIL.COM            designer   \n",
       "134            OUTDOORLMAJVIIP@YAHOO.COM             outdoor   \n",
       "\n",
       "     relationship_length  site_visits  active_send  active_receive  \\\n",
       "0                     30         2019            0               0   \n",
       "1                      6           47            0               0   \n",
       "2                     13          105            0               1   \n",
       "3                     11          146            0               1   \n",
       "4                      2          346            1               0   \n",
       "..                   ...          ...          ...             ...   \n",
       "130                    5          543            0               0   \n",
       "131                    4           43            0               0   \n",
       "132                   30          477            0               0   \n",
       "133                   14         7924            0               0   \n",
       "134                   30          303            0               1   \n",
       "\n",
       "     active_user                domain      industry_y  \n",
       "0              0             YAHOO.COM             NaN  \n",
       "1              0             YAHOO.COM             NaN  \n",
       "2              1             GMAIL.COM             NaN  \n",
       "3              1             YAHOO.COM             NaN  \n",
       "4              1             GMAIL.COM             NaN  \n",
       "..           ...                   ...             ...  \n",
       "130            0             GMAIL.COM             NaN  \n",
       "131            0  OUTDOORLIVINGYQT.BIZ  outdoor living  \n",
       "132            0           HOTMAIL.COM             NaN  \n",
       "133            0             GMAIL.COM             NaN  \n",
       "134            1             YAHOO.COM             NaN  \n",
       "\n",
       "[135 rows x 9 columns]"
      ]
     },
     "execution_count": 189,
     "metadata": {},
     "output_type": "execute_result"
    }
   ],
   "source": [
    "final_data"
   ]
  },
  {
   "cell_type": "markdown",
   "metadata": {},
   "source": [
    "## Dummy variable for Industry"
   ]
  },
  {
   "cell_type": "code",
   "execution_count": 190,
   "metadata": {},
   "outputs": [],
   "source": [
    "dummies = pd.get_dummies(final_data['industry_x'])"
   ]
  },
  {
   "cell_type": "code",
   "execution_count": 191,
   "metadata": {},
   "outputs": [],
   "source": [
    "result = pd.merge(final_data,dummies,how = 'left',left_index = True, right_index = True)"
   ]
  },
  {
   "cell_type": "code",
   "execution_count": 192,
   "metadata": {},
   "outputs": [
    {
     "data": {
      "text/plain": [
       "Index(['email_address', 'industry_x', 'relationship_length', 'site_visits',\n",
       "       'active_send', 'active_receive', 'active_user', 'domain', 'industry_y',\n",
       "       'architect', 'designer', 'garden', 'gardening', 'grower', 'hg',\n",
       "       'home and garden', 'landscape architect', 'landscape designer',\n",
       "       'landscape engineer', 'landscaper', 'landscaping', 'nursery', 'orchard',\n",
       "       'outdoor', 'outdoor living', 'plants', 'supply', 'vineyard'],\n",
       "      dtype='object')"
      ]
     },
     "execution_count": 192,
     "metadata": {},
     "output_type": "execute_result"
    }
   ],
   "source": [
    "result.columns"
   ]
  },
  {
   "cell_type": "code",
   "execution_count": 193,
   "metadata": {},
   "outputs": [],
   "source": [
    "X_data = result[['relationship_length', 'site_visits','architect', 'designer', 'garden', 'gardening', 'grower', 'hg',\n",
    "                 'home and garden', 'landscape architect', 'landscape designer','landscape engineer', 'landscaper', \n",
    "                 'landscaping', 'nursery', 'orchard','outdoor', 'outdoor living', 'plants', 'supply', 'vineyard']]\n",
    "Y_data = result[['active_user']]"
   ]
  },
  {
   "cell_type": "code",
   "execution_count": 194,
   "metadata": {},
   "outputs": [
    {
     "data": {
      "text/plain": [
       "1    80\n",
       "0    55\n",
       "Name: active_user, dtype: int64"
      ]
     },
     "execution_count": 194,
     "metadata": {},
     "output_type": "execute_result"
    }
   ],
   "source": [
    "Y_data['active_user'].value_counts()"
   ]
  },
  {
   "cell_type": "markdown",
   "metadata": {},
   "source": [
    "## Test Train split"
   ]
  },
  {
   "cell_type": "code",
   "execution_count": 195,
   "metadata": {},
   "outputs": [],
   "source": [
    "\n",
    "#scaler = StandardScaler()\n",
    "#X_data = scaler.fit_transform(X_data)\n",
    "\n",
    "X_train, X_test, y_train, y_test = train_test_split(X_data, Y_data, test_size=0.3, random_state = 123) # 70% training and 30% test\n",
    "\n",
    "# Uversampling the Imbalanced data with SmoteTomek\n",
    "#smtm = SMOTETomek(random_state = 122)\n",
    "#X_train_smtm, y_train_smtm = smtm.fit_resample(X_train, y_train)"
   ]
  },
  {
   "cell_type": "markdown",
   "metadata": {},
   "source": [
    "## Logistic Regression with model coefficients and accuracy result"
   ]
  },
  {
   "cell_type": "code",
   "execution_count": 196,
   "metadata": {},
   "outputs": [
    {
     "name": "stdout",
     "output_type": "stream",
     "text": [
      "[0.48590151]\n",
      "[[-2.02926828e-02  3.55803852e-05  1.04664693e-01 -2.97857616e-01\n",
      "   4.06332614e-01 -1.22261218e-01  1.67429456e-01  1.89692516e-01\n",
      "   1.57575686e-01  5.14760667e-01  8.45333250e-01  5.79627672e-01\n",
      "   3.77184149e-01 -6.39582811e-01 -4.07193181e-01 -3.20053869e-01\n",
      "  -1.96061873e-01 -1.10966680e+00  2.41446265e-01  6.12827916e-01\n",
      "   1.36468100e-01]]\n"
     ]
    },
    {
     "data": {
      "text/plain": [
       "0.5609756097560976"
      ]
     },
     "execution_count": 196,
     "metadata": {},
     "output_type": "execute_result"
    }
   ],
   "source": [
    "# Create and fit a logistic regression model\n",
    "log_reg = LogisticRegression(solver='lbfgs')\n",
    "log_reg.fit(X_train, np.ravel(y_train))\n",
    "\n",
    "# Print the parameters of the model\n",
    "#print(log_reg.get_params())\n",
    "\n",
    "# Print the intercept of the model\n",
    "print(log_reg.intercept_)\n",
    "\n",
    "# Print the models coefficients\n",
    "print(log_reg.coef_)\n",
    "\n",
    "\n",
    "log_reg.score(X_test,y_test)"
   ]
  },
  {
   "cell_type": "code",
   "execution_count": null,
   "metadata": {},
   "outputs": [],
   "source": [
    "predictions = log_reg.predict(X_test)\n",
    "predictions = pd.DataFrame(predictions, columns = ['Predicted'])\n",
    "y_test.reset_index(inplace = True, drop = True)\n",
    "y_test  = pd.DataFrame(y_test, columns=['active_user'])"
   ]
  },
  {
   "cell_type": "markdown",
   "metadata": {},
   "source": [
    "## Accuracy and Confusion Matrix"
   ]
  },
  {
   "cell_type": "code",
   "execution_count": 198,
   "metadata": {},
   "outputs": [
    {
     "name": "stdout",
     "output_type": "stream",
     "text": [
      "Confusion matrix : \n",
      " [[20  4]\n",
      " [14  3]]\n",
      "Outcome values :  20 4 14 3\n",
      "\n",
      "Classification report : \n",
      "               precision    recall  f1-score   support\n",
      "\n",
      "           1       0.59      0.83      0.69        24\n",
      "           0       0.43      0.18      0.25        17\n",
      "\n",
      "    accuracy                           0.56        41\n",
      "   macro avg       0.51      0.50      0.47        41\n",
      "weighted avg       0.52      0.56      0.51        41\n",
      "\n",
      "\n",
      "Overall accuracy : 0.5609756097560976\n",
      "\n",
      "Sensitivity      : 0.8333333333333334\n",
      "\n",
      "Specificity      : 0.17647058823529413\n"
     ]
    }
   ],
   "source": [
    "# Accuracy and Confusion Matrix\n",
    "\n",
    "predicted = predictions['Predicted']\n",
    "actual = y_test['active_user']\n",
    "\n",
    "\n",
    "# confusion matrix\n",
    "matrix = confusion_matrix(actual,predicted, labels=[1,0])\n",
    "print('Confusion matrix : \\n',matrix)\n",
    "\n",
    "# outcome values order in sklearn\n",
    "tp, fn, fp, tn = confusion_matrix(actual,predicted,labels=[1,0]).reshape(-1)\n",
    "print('Outcome values : ', tp, fn, fp, tn)\n",
    "\n",
    "\n",
    "# classification report for precision, recall f1-score and accuracy\n",
    "#target_names = ['Non-Default', 'Default']\n",
    "matrix = classification_report(actual,predicted, labels=[1,0])\n",
    "print('\\nClassification report : \\n',matrix)\n",
    "\n",
    "\n",
    "sensitivity = tp/(tp+fn)\n",
    "specificity = tn/(tn+fp) \n",
    "accuracy = (tp + tn)/(tp + fn + fp + tn)\n",
    "print('\\nOverall accuracy :',accuracy)\n",
    "print('\\nSensitivity      :',sensitivity)\n",
    "print('\\nSpecificity      :',specificity)\n"
   ]
  },
  {
   "attachments": {},
   "cell_type": "markdown",
   "metadata": {},
   "source": [
    "<b>The Model Accuracy is 56 % which not great, but the Recall(1) is 83%.\n",
    "<br><br>We are able to accurately predict activities among total actual activities with 83%.\n",
    "<br><br>Using regression coefficients and accuracy we can predict the activity probability for each vertical.\n"
   ]
  },
  {
   "cell_type": "markdown",
   "metadata": {},
   "source": [
    "## reacalculating Coefficients for entrire data"
   ]
  },
  {
   "cell_type": "code",
   "execution_count": 173,
   "metadata": {},
   "outputs": [
    {
     "name": "stdout",
     "output_type": "stream",
     "text": [
      "[0.4042813]\n",
      "[[-5.26995927e-03 -9.67790277e-05  3.42616225e-01 -3.35850799e-01\n",
      "   2.75822649e-01  7.24009065e-02  4.57631433e-01 -1.31464202e-01\n",
      "   5.18177678e-01  3.07884393e-01  8.67535464e-01  1.86336484e-01\n",
      "   5.37342732e-01 -6.81941478e-01  5.09432389e-03 -4.07110808e-01\n",
      "   4.20860774e-02 -1.35763980e+00  3.54530637e-01  5.61491584e-01\n",
      "  -1.72304170e-01]]\n"
     ]
    },
    {
     "data": {
      "text/plain": [
       "0.6666666666666666"
      ]
     },
     "execution_count": 173,
     "metadata": {},
     "output_type": "execute_result"
    }
   ],
   "source": [
    "# Create and fit a logistic regression model\n",
    "log_reg = LogisticRegression(solver='lbfgs')\n",
    "log_reg.fit(X_data, np.ravel(Y_data))\n",
    "\n",
    "# Print the parameters of the model\n",
    "#print(log_reg.get_params())\n",
    "\n",
    "# Print the intercept of the model\n",
    "print(log_reg.intercept_)\n",
    "\n",
    "# Print the models coefficients\n",
    "print(log_reg.coef_)\n",
    "\n",
    "\n",
    "log_reg.score(X_data,Y_data)"
   ]
  }
 ],
 "metadata": {
  "kernelspec": {
   "display_name": "Python 3",
   "language": "python",
   "name": "python3"
  },
  "language_info": {
   "codemirror_mode": {
    "name": "ipython",
    "version": 3
   },
   "file_extension": ".py",
   "mimetype": "text/x-python",
   "name": "python",
   "nbconvert_exporter": "python",
   "pygments_lexer": "ipython3",
   "version": "3.8.3"
  }
 },
 "nbformat": 4,
 "nbformat_minor": 4
}
